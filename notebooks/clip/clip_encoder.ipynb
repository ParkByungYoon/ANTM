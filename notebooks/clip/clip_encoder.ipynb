{
 "cells": [
  {
   "cell_type": "code",
   "execution_count": 1,
   "metadata": {},
   "outputs": [],
   "source": [
    "import numpy as np\n",
    "import pandas as pd\n",
    "import pickle\n",
    "import os\n",
    "import torch\n",
    "import clip\n",
    "import transformers\n",
    "\n",
    "from PIL import Image\n",
    "from multilingual_clip import pt_multilingual_clip\n",
    "from fashion_clip.fashion_clip import FashionCLIP\n",
    "from tqdm.notebook import tqdm\n",
    "from sklearn.metrics.pairwise import cosine_similarity"
   ]
  },
  {
   "cell_type": "markdown",
   "metadata": {},
   "source": [
    "# LOAD DATA "
   ]
  },
  {
   "cell_type": "code",
   "execution_count": 2,
   "metadata": {},
   "outputs": [],
   "source": [
    "device = \"cuda:0\" if torch.cuda.is_available() else \"cpu\"\n",
    "\n",
    "text_folder = '/home/smart01/SFLAB/DATA/mind_br_data_prepro_full/'\n",
    "text_df = pd.read_csv(os.path.join(text_folder, 'text_description.csv')).set_index('품번')\n",
    "\n",
    "image_folder = '/home/smart01/SFLAB/DATA/mind_br_data_full_240227/images'\n",
    "image_file_list = os.listdir(image_folder)"
   ]
  },
  {
   "cell_type": "markdown",
   "metadata": {},
   "source": [
    "# Fashion CLIP TEXT ENCODER"
   ]
  },
  {
   "cell_type": "code",
   "execution_count": 5,
   "metadata": {},
   "outputs": [],
   "source": [
    "fclip = FashionCLIP('fashion-clip')"
   ]
  },
  {
   "cell_type": "code",
   "execution_count": null,
   "metadata": {},
   "outputs": [],
   "source": [
    "text_embedding_ids = {}\n",
    "\n",
    "idx = 0\n",
    "batch_size = 256\n",
    "text_embeddings = np.zeros((1,512))\n",
    "for temp_df in tqdm(np.array_split(text_df, len(text_df)//batch_size)):\n",
    "\n",
    "    for offset, item_id in enumerate(temp_df.index):\n",
    "        text_embedding_ids[idx+offset] = item_id\n",
    "    \n",
    "    text = temp_df['설명'].tolist()\n",
    "    text_embs = fclip.encode_text(text, batch_size=batch_size)\n",
    "    text_embeddings = np.concatenate([text_embeddings, text_embs])\n",
    "\n",
    "    idx = len(text_embedding_ids)"
   ]
  },
  {
   "cell_type": "code",
   "execution_count": 5,
   "metadata": {},
   "outputs": [
    {
     "data": {
      "text/plain": [
       "(18160, 512)"
      ]
     },
     "execution_count": 5,
     "metadata": {},
     "output_type": "execute_result"
    }
   ],
   "source": [
    "save_dir = '/home/smart01/SFLAB/bonbak/data/output/clip'\n",
    "pickle.dump(text_embedding_ids, open(os.path.join(save_dir,'text_embedding_ids.pickle'), 'wb'))\n",
    "np.save(os.path.join(save_dir, 'fclip_text_embedding.npy'), text_embeddings[1:])\n",
    "text_embeddings = np.load(os.path.join(save_dir, 'fclip_text_embedding.npy'))\n",
    "text_embeddings.shape"
   ]
  },
  {
   "cell_type": "markdown",
   "metadata": {},
   "source": [
    "# Fashion CLIP IMAGE ENCODER"
   ]
  },
  {
   "cell_type": "code",
   "execution_count": 21,
   "metadata": {},
   "outputs": [
    {
     "name": "stderr",
     "output_type": "stream",
     "text": [
      "100%|██████████| 1/1 [00:00<00:00,  5.52it/s]\n"
     ]
    }
   ],
   "source": [
    "image_embedding_ids = {}\n",
    "for idx, image_file in enumerate(image_file_list):\n",
    "    item_id = image_file.split('_')[0]\n",
    "    image_embedding_ids[idx] = item_id\n",
    "\n",
    "image_file_paths = [os.path.join(image_folder, image_file) for image_file in image_file_list]\n",
    "image_embeddings = fclip.encode_images(image_file_paths, batch_size=1)"
   ]
  },
  {
   "cell_type": "code",
   "execution_count": 8,
   "metadata": {},
   "outputs": [
    {
     "data": {
      "text/plain": [
       "(15899, 512)"
      ]
     },
     "execution_count": 8,
     "metadata": {},
     "output_type": "execute_result"
    }
   ],
   "source": [
    "save_dir = '/home/smart01/SFLAB/bonbak/data/output/clip'\n",
    "pickle.dump(image_embedding_ids, open(os.path.join(save_dir,'image_embedding_ids.pickle'), 'wb'))\n",
    "np.save(os.path.join(save_dir, 'fclip_image_embedding.npy'), image_embeddings)\n",
    "image_embeddings = np.load(os.path.join(save_dir, 'fclip_image_embedding.npy'))\n",
    "image_embeddings.shape"
   ]
  },
  {
   "cell_type": "markdown",
   "metadata": {},
   "source": [
    "# Multilingual CLIP TEXT ENCODER"
   ]
  },
  {
   "cell_type": "code",
   "execution_count": null,
   "metadata": {},
   "outputs": [],
   "source": [
    "model_name = 'M-CLIP/XLM-Roberta-Large-Vit-L-14'\n",
    "\n",
    "text_encoder = pt_multilingual_clip.MultilingualCLIP.from_pretrained(model_name).to(device)\n",
    "text_tokenizer = transformers.AutoTokenizer.from_pretrained(model_name)"
   ]
  },
  {
   "cell_type": "code",
   "execution_count": null,
   "metadata": {},
   "outputs": [],
   "source": [
    "text_embedding_ids = {}\n",
    "\n",
    "idx = 0\n",
    "batch_size = 8\n",
    "text_embeddings = np.zeros((1,768))\n",
    "for temp_df in tqdm(np.array_split(text_df, len(text_df)//batch_size)):\n",
    "\n",
    "    for offset, item_id in enumerate(temp_df.index):\n",
    "        text_embedding_ids[idx+offset] = item_id\n",
    "    \n",
    "    txt = temp_df['설명'].tolist()\n",
    "    # text_embs = text_encoder.forward(txt, text_tokenizer)\n",
    "\n",
    "    txt_tok = text_tokenizer(txt, padding=True, return_tensors='pt').to(device)\n",
    "    embs = text_encoder.transformer(**txt_tok)[0]\n",
    "    att = txt_tok['attention_mask']\n",
    "    embs = (embs * att.unsqueeze(2)).sum(dim=1) / att.sum(dim=1)[:, None]\n",
    "    text_embs = text_encoder.LinearTransformation(embs)\n",
    "    text_embeddings = np.concatenate([text_embeddings, text_embs.detach().cpu().numpy()])\n",
    "\n",
    "    idx = len(text_embedding_ids)"
   ]
  },
  {
   "cell_type": "code",
   "execution_count": null,
   "metadata": {},
   "outputs": [],
   "source": [
    "save_dir = '/home/smart01/SFLAB/bonbak/data/output/clip'\n",
    "pickle.dump(text_embedding_ids, open(os.path.join(save_dir,'text_embedding_ids.pickle'), 'wb'))\n",
    "np.save(os.path.join(save_dir, 'mclip_text_embedding.npy'), text_embeddings[1:])\n",
    "text_embeddings = np.load(os.path.join(save_dir, 'mclip_text_embedding.npy'))\n",
    "text_embeddings.shape"
   ]
  },
  {
   "cell_type": "markdown",
   "metadata": {},
   "source": [
    "# CLIP TEXT ENCODER"
   ]
  },
  {
   "cell_type": "code",
   "execution_count": null,
   "metadata": {},
   "outputs": [],
   "source": [
    "encoder, image_preprocess = clip.load(\"ViT-L/14\", device=device)"
   ]
  },
  {
   "cell_type": "code",
   "execution_count": null,
   "metadata": {},
   "outputs": [],
   "source": [
    "text_embedding_ids = {}\n",
    "\n",
    "idx = 0\n",
    "batch_size = 8\n",
    "text_embeddings = np.zeros((1,768))\n",
    "\n",
    "with torch.no_grad():\n",
    "    for temp_df in tqdm(np.array_split(text_df, len(text_df)//batch_size)):\n",
    "\n",
    "        for offset, item_id in enumerate(temp_df.index):\n",
    "            text_embedding_ids[idx+offset] = item_id\n",
    "        \n",
    "        text = temp_df['설명'].tolist()\n",
    "        text = clip.tokenize(text, truncate=True).to(device)\n",
    "\n",
    "        text_embs = encoder.encode_text(text)\n",
    "        text_embeddings = np.concatenate([text_embeddings, text_embs.detach().cpu().numpy()])\n",
    "\n",
    "        idx = len(text_embedding_ids)"
   ]
  },
  {
   "cell_type": "code",
   "execution_count": null,
   "metadata": {},
   "outputs": [],
   "source": [
    "save_dir = '/home/smart01/SFLAB/bonbak/data/output/clip'\n",
    "pickle.dump(text_embedding_ids, open(os.path.join(save_dir,'text_embedding_ids.pickle'), 'wb'))\n",
    "np.save(os.path.join(save_dir, 'clip_text_embedding.npy'), text_embeddings[1:])\n",
    "text_embeddings = np.load(os.path.join(save_dir, 'clip_text_embedding.npy'))\n",
    "text_embeddings.shape"
   ]
  },
  {
   "cell_type": "markdown",
   "metadata": {},
   "source": [
    "# CLIP IMAGE ENCODER"
   ]
  },
  {
   "cell_type": "code",
   "execution_count": null,
   "metadata": {},
   "outputs": [],
   "source": [
    "image_encoder, image_preprocess = clip.load(\"ViT-L/14\", device=device)"
   ]
  },
  {
   "cell_type": "code",
   "execution_count": null,
   "metadata": {},
   "outputs": [],
   "source": [
    "image_embeddings = np.zeros((1,768))\n",
    "\n",
    "image_embedding_ids = {}\n",
    "for idx, image_file in enumerate(tqdm(image_file_list)):\n",
    "    item_id = image_file.split('_')[0]\n",
    "    \n",
    "    image = image_preprocess(Image.open(os.path.join(image_folder, image_file))).unsqueeze(0).to(device)\n",
    "    image_embs = image_encoder.encode_image(image)\n",
    "\n",
    "    image_embeddings = np.concatenate([image_embeddings, image_embs.detach().cpu().numpy()])\n",
    "    image_embedding_ids[idx] = item_id"
   ]
  },
  {
   "cell_type": "code",
   "execution_count": null,
   "metadata": {},
   "outputs": [],
   "source": [
    "save_dir = '/home/smart01/SFLAB/bonbak/data/output/clip'\n",
    "pickle.dump(image_embedding_ids, open(os.path.join(save_dir,'image_embedding_ids.pickle'), 'wb'))\n",
    "np.save(os.path.join(save_dir, 'clip_image_embedding.npy'), image_embeddings[1:])\n",
    "image_embeddings = np.load(os.path.join(save_dir, 'clip_image_embedding.npy'))\n",
    "image_embeddings.shape"
   ]
  },
  {
   "cell_type": "markdown",
   "metadata": {},
   "source": [
    "# Cosine Similarity"
   ]
  },
  {
   "cell_type": "code",
   "execution_count": 19,
   "metadata": {},
   "outputs": [],
   "source": [
    "save_dir = '/home/smart01/SFLAB/bonbak/output/clip'\n",
    "\n",
    "image_embeddings = np.load(os.path.join(save_dir, 'image_embedding_clip.npy'))\n",
    "img_id_decoder = pickle.load(open(os.path.join(save_dir,'image_embedding_ids.pickle'), 'rb'))\n",
    "img_id_encoder = {item_id[:-2]:idx for idx, item_id in img_id_decoder.items()}\n",
    "\n",
    "text_embeddings = np.load(os.path.join(save_dir, 'text_embedding_mclip.npy'))\n",
    "txt_id_decoder = pickle.load(open(os.path.join(save_dir,'text_embedding_ids.pickle'), 'rb'))\n",
    "txt_id_encoder = {item_id:idx for idx, item_id in txt_id_decoder.items()}\n",
    "\n",
    "item_id_list = set(img_id_encoder.keys()) & set(txt_id_encoder.keys())"
   ]
  },
  {
   "cell_type": "code",
   "execution_count": 20,
   "metadata": {},
   "outputs": [],
   "source": [
    "txt_ids = []\n",
    "img_ids = []\n",
    "for item_id in item_id_list:\n",
    "    img_ids.append(img_id_encoder[item_id])\n",
    "    txt_ids.append(txt_id_encoder[item_id])"
   ]
  },
  {
   "cell_type": "code",
   "execution_count": 21,
   "metadata": {},
   "outputs": [
    {
     "data": {
      "text/plain": [
       "0.24088835397938502"
      ]
     },
     "execution_count": 21,
     "metadata": {},
     "output_type": "execute_result"
    }
   ],
   "source": [
    "cossim = cosine_similarity(image_embeddings[img_ids], text_embeddings[txt_ids])\n",
    "np.mean(np.diag(cossim))"
   ]
  }
 ],
 "metadata": {
  "kernelspec": {
   "display_name": "bonbak",
   "language": "python",
   "name": "python3"
  },
  "language_info": {
   "codemirror_mode": {
    "name": "ipython",
    "version": 3
   },
   "file_extension": ".py",
   "mimetype": "text/x-python",
   "name": "python",
   "nbconvert_exporter": "python",
   "pygments_lexer": "ipython3",
   "version": "3.10.13"
  }
 },
 "nbformat": 4,
 "nbformat_minor": 2
}
