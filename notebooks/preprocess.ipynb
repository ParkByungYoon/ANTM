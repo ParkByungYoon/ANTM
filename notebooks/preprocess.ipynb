{
 "cells": [
  {
   "cell_type": "code",
   "execution_count": 1,
   "metadata": {},
   "outputs": [],
   "source": [
    "import pandas as pd\n",
    "import pickle"
   ]
  },
  {
   "cell_type": "code",
   "execution_count": 2,
   "metadata": {},
   "outputs": [
    {
     "data": {
      "text/html": [
       "<div>\n",
       "<style scoped>\n",
       "    .dataframe tbody tr th:only-of-type {\n",
       "        vertical-align: middle;\n",
       "    }\n",
       "\n",
       "    .dataframe tbody tr th {\n",
       "        vertical-align: top;\n",
       "    }\n",
       "\n",
       "    .dataframe thead th {\n",
       "        text-align: right;\n",
       "    }\n",
       "</style>\n",
       "<table border=\"1\" class=\"dataframe\">\n",
       "  <thead>\n",
       "    <tr style=\"text-align: right;\">\n",
       "      <th></th>\n",
       "      <th>sales_mean</th>\n",
       "      <th>qcut_label</th>\n",
       "    </tr>\n",
       "    <tr>\n",
       "      <th>품번</th>\n",
       "      <th></th>\n",
       "      <th></th>\n",
       "    </tr>\n",
       "  </thead>\n",
       "  <tbody>\n",
       "    <tr>\n",
       "      <th>JPOP123A</th>\n",
       "      <td>4.833333</td>\n",
       "      <td>0</td>\n",
       "    </tr>\n",
       "    <tr>\n",
       "      <th>JPOP123B</th>\n",
       "      <td>5.833333</td>\n",
       "      <td>1</td>\n",
       "    </tr>\n",
       "    <tr>\n",
       "      <th>JPOP123C</th>\n",
       "      <td>6.166667</td>\n",
       "      <td>1</td>\n",
       "    </tr>\n",
       "    <tr>\n",
       "      <th>JPOP123D</th>\n",
       "      <td>1.083333</td>\n",
       "      <td>0</td>\n",
       "    </tr>\n",
       "    <tr>\n",
       "      <th>JPOP221A</th>\n",
       "      <td>0.500000</td>\n",
       "      <td>0</td>\n",
       "    </tr>\n",
       "    <tr>\n",
       "      <th>...</th>\n",
       "      <td>...</td>\n",
       "      <td>...</td>\n",
       "    </tr>\n",
       "    <tr>\n",
       "      <th>MWPT71A1</th>\n",
       "      <td>65.666667</td>\n",
       "      <td>7</td>\n",
       "    </tr>\n",
       "    <tr>\n",
       "      <th>MWPT71A2</th>\n",
       "      <td>49.666667</td>\n",
       "      <td>6</td>\n",
       "    </tr>\n",
       "    <tr>\n",
       "      <th>MWPT71A3</th>\n",
       "      <td>13.166667</td>\n",
       "      <td>3</td>\n",
       "    </tr>\n",
       "    <tr>\n",
       "      <th>MWPT71B1</th>\n",
       "      <td>29.083333</td>\n",
       "      <td>5</td>\n",
       "    </tr>\n",
       "    <tr>\n",
       "      <th>MWPT71B2</th>\n",
       "      <td>22.000000</td>\n",
       "      <td>4</td>\n",
       "    </tr>\n",
       "  </tbody>\n",
       "</table>\n",
       "<p>1736 rows × 2 columns</p>\n",
       "</div>"
      ],
      "text/plain": [
       "          sales_mean  qcut_label\n",
       "품번                              \n",
       "JPOP123A    4.833333           0\n",
       "JPOP123B    5.833333           1\n",
       "JPOP123C    6.166667           1\n",
       "JPOP123D    1.083333           0\n",
       "JPOP221A    0.500000           0\n",
       "...              ...         ...\n",
       "MWPT71A1   65.666667           7\n",
       "MWPT71A2   49.666667           6\n",
       "MWPT71A3   13.166667           3\n",
       "MWPT71B1   29.083333           5\n",
       "MWPT71B2   22.000000           4\n",
       "\n",
       "[1736 rows x 2 columns]"
      ]
     },
     "execution_count": 2,
     "metadata": {},
     "output_type": "execute_result"
    }
   ],
   "source": [
    "qcut_df = pd.read_csv('/home/smart01/SFLAB/su_GTM_t/GTM_T_sanguk/qcut_df_bin10.csv', index_col='품번')\n",
    "qcut_df"
   ]
  },
  {
   "cell_type": "code",
   "execution_count": null,
   "metadata": {},
   "outputs": [],
   "source": [
    "df = qcut_df.copy()\n",
    "df['qcut_label'] = pd.cut(qcut_df['sales_mean'], bins=10, labels=range(0,10))\n",
    "df.to_csv('/home/smart01/SFLAB/su_GTM_t/GTM_T_sanguk/qcut_value_df_bin10.csv')\n",
    "pd.read_csv('/home/smart01/SFLAB/su_GTM_t/GTM_T_sanguk/qcut_value_df_bin10.csv', index_col='품번')"
   ]
  },
  {
   "cell_type": "code",
   "execution_count": 13,
   "metadata": {},
   "outputs": [],
   "source": [
    "test_list = pickle.load(open(\"/home/smart01/SFLAB/su_GTM_t/GTM_T_sanguk/12salesweek_test_item_number296.pkl\", 'rb')).drop(\"MTPT6102\")[:]\n",
    "train_list = df.index[~df.index.isin(test_list)]\n",
    "train_df = df.loc[train_list]\n",
    "test_df = df.loc[test_list]"
   ]
  },
  {
   "cell_type": "code",
   "execution_count": 14,
   "metadata": {},
   "outputs": [
    {
     "data": {
      "text/plain": [
       "qcut_label\n",
       "0    1267\n",
       "1     106\n",
       "2      27\n",
       "3      15\n",
       "4      10\n",
       "7       6\n",
       "5       5\n",
       "6       3\n",
       "8       1\n",
       "9       1\n",
       "Name: count, dtype: int64"
      ]
     },
     "execution_count": 14,
     "metadata": {},
     "output_type": "execute_result"
    }
   ],
   "source": [
    "train_df.qcut_label.value_counts()"
   ]
  },
  {
   "cell_type": "code",
   "execution_count": 15,
   "metadata": {},
   "outputs": [
    {
     "data": {
      "text/plain": [
       "qcut_label\n",
       "0    256\n",
       "1     24\n",
       "2      5\n",
       "3      4\n",
       "5      2\n",
       "4      1\n",
       "6      1\n",
       "8      1\n",
       "9      1\n",
       "7      0\n",
       "Name: count, dtype: int64"
      ]
     },
     "execution_count": 15,
     "metadata": {},
     "output_type": "execute_result"
    }
   ],
   "source": [
    "test_df.qcut_label.value_counts()"
   ]
  }
 ],
 "metadata": {
  "kernelspec": {
   "display_name": "bonbak",
   "language": "python",
   "name": "python3"
  },
  "language_info": {
   "codemirror_mode": {
    "name": "ipython",
    "version": 3
   },
   "file_extension": ".py",
   "mimetype": "text/x-python",
   "name": "python",
   "nbconvert_exporter": "python",
   "pygments_lexer": "ipython3",
   "version": "3.10.13"
  }
 },
 "nbformat": 4,
 "nbformat_minor": 2
}
