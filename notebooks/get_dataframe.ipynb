{
 "cells": [
  {
   "cell_type": "code",
   "execution_count": 1,
   "metadata": {},
   "outputs": [],
   "source": [
    "import pandas as pd\n",
    "import numpy as np\n",
    "import os \n",
    "from PIL import Image, ImageFile\n",
    "from transformers import pipeline\n",
    "import torch\n",
    "\n",
    "from tqdm.notebook import tqdm\n",
    "import torch.nn as nn\n",
    "from torchvision import models\n",
    "\n",
    "from torchvision.transforms import Resize, ToTensor, Normalize, Compose"
   ]
  },
  {
   "cell_type": "code",
   "execution_count": 2,
   "metadata": {},
   "outputs": [],
   "source": [
    "class ImageEmbedder(nn.Module):\n",
    "    def __init__(self):\n",
    "        super().__init__()\n",
    "        resnet = models.resnet50(pretrained=True)\n",
    "        modules = list(resnet.children())[:-2]\n",
    "        self.resnet = nn.Sequential(*modules)\n",
    "        for p in self.resnet.parameters():\n",
    "            p.requires_grad = False\n",
    "\n",
    "    def forward(self, images):\n",
    "        img_embeddings = self.resnet(images)\n",
    "        size = img_embeddings.size()\n",
    "        out = img_embeddings.view(*size[:2], -1)\n",
    "\n",
    "        return out.view(*size).contiguous() "
   ]
  },
  {
   "cell_type": "code",
   "execution_count": 3,
   "metadata": {},
   "outputs": [
    {
     "name": "stderr",
     "output_type": "stream",
     "text": [
      "/home/smart01/.conda/envs/bonbak/lib/python3.10/site-packages/torchvision/models/_utils.py:208: UserWarning: The parameter 'pretrained' is deprecated since 0.13 and may be removed in the future, please use 'weights' instead.\n",
      "  warnings.warn(\n",
      "/home/smart01/.conda/envs/bonbak/lib/python3.10/site-packages/torchvision/models/_utils.py:223: UserWarning: Arguments other than a weight enum or `None` for 'weights' are deprecated since 0.13 and may be removed in the future. The current behavior is equivalent to passing `weights=ResNet50_Weights.IMAGENET1K_V1`. You can also use `weights=ResNet50_Weights.DEFAULT` to get the most up-to-date weights.\n",
      "  warnings.warn(msg)\n"
     ]
    }
   ],
   "source": [
    "meta_path = '/home/smart01/SFLAB/su_GTM_t/GTM_T_sanguk/'\n",
    "data_path = \"/home/smart01/SFLAB/sanguk/mind_br_data/\"\n",
    "\n",
    "meta_df = pd.read_csv(os.path.join(meta_path,'meta_data_image_text_nofilter.csv'), index_col='item_number')\n",
    "meta_df = meta_df.drop(['sales_std'], axis=1)\n",
    "\n",
    "text_df = pd.read_excel(os.path.join(data_path, \"품번description(텍스트).xlsx\"), index_col=\"품번\").astype(str)\n",
    "text_embedder = pipeline('feature-extraction', model='klue/bert-base')\n",
    "\n",
    "image_embedder = ImageEmbedder()\n",
    "img_transforms = Compose([Resize((256, 256)), ToTensor(), Normalize(mean=[0.485, 0.456, 0.406], std=[0.229, 0.224, 0.225])])"
   ]
  },
  {
   "cell_type": "code",
   "execution_count": 18,
   "metadata": {},
   "outputs": [],
   "source": [
    "df = pd.DataFrame()\n",
    "\n",
    "df['fabric'] = meta_df.loc[:,meta_df.columns[meta_df.columns.str.startswith('fabric')]].idxmax(axis=1).apply(lambda x:x.split('_')[-1])\n",
    "df['color'] = meta_df.loc[:,meta_df.columns[meta_df.columns.str.startswith(('main_color','color'))]].idxmax(axis=1).apply(lambda x:x.split('_')[-1])\n",
    "df['category'] = meta_df.loc[:,meta_df.columns[meta_df.columns.str.startswith('category')]].idxmax(axis=1).apply(lambda x:x.split('_')[-1])\n",
    "df['sales_mean'] = meta_df.loc[:,'sales_mean']\n",
    "\n",
    "img_df = pd.DataFrame(columns = [f'img_{i}' for i in range(2048)], index = df.index)\n",
    "df = pd.concat([df, img_df],axis=1)\n",
    "\n",
    "text_df = pd.DataFrame(columns = [f'text_{i}' for i in range(768)], index = df.index)\n",
    "df = pd.concat([df, text_df],axis=1)"
   ]
  },
  {
   "cell_type": "code",
   "execution_count": 5,
   "metadata": {},
   "outputs": [
    {
     "data": {
      "application/vnd.jupyter.widget-view+json": {
       "model_id": "aaf97e4831474705a3b6603ec9277a71",
       "version_major": 2,
       "version_minor": 0
      },
      "text/plain": [
       "  0%|          | 0/1771 [00:00<?, ?it/s]"
      ]
     },
     "metadata": {},
     "output_type": "display_data"
    }
   ],
   "source": [
    "for item_id, _ in tqdm(df.iterrows(), total=len(df), ascii=True):\n",
    "    img = Image.open(os.path.join(data_path+'images', item_id + '.png')).convert('RGB')\n",
    "    img = img_transforms(img)\n",
    "    img_embedding = image_embedder(img.unsqueeze(dim=0)).mean(axis=-1).mean(axis=-1).squeeze()\n",
    "    df.loc[item_id, df.columns.str.startswith('img')] = np.array(img_embedding)\n",
    "\n",
    "    text = text_df['설명'].loc[item_id]\n",
    "    word_embeddings = text_embedder(text)\n",
    "    text_embedding = torch.FloatTensor(word_embeddings).mean(axis=1).squeeze()\n",
    "    df.loc[item_id, df.columns.str.startswith('text')] = np.array(text_embedding)"
   ]
  },
  {
   "cell_type": "code",
   "execution_count": 7,
   "metadata": {},
   "outputs": [],
   "source": [
    "df.to_csv('../../data/preprocess/all_meta_data.csv')"
   ]
  },
  {
   "cell_type": "code",
   "execution_count": 15,
   "metadata": {},
   "outputs": [],
   "source": [
    "df = pd.read_csv('../../data/preprocess/all_meta_data.csv', index_col='item_number')\n",
    "df"
   ]
  }
 ],
 "metadata": {
  "kernelspec": {
   "display_name": "bonbak",
   "language": "python",
   "name": "python3"
  },
  "language_info": {
   "codemirror_mode": {
    "name": "ipython",
    "version": 3
   },
   "file_extension": ".py",
   "mimetype": "text/x-python",
   "name": "python",
   "nbconvert_exporter": "python",
   "pygments_lexer": "ipython3",
   "version": "3.10.13"
  }
 },
 "nbformat": 4,
 "nbformat_minor": 2
}
